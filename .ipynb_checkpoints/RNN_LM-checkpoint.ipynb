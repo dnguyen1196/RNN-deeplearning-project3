{
 "cells": [
  {
   "cell_type": "markdown",
   "metadata": {},
   "source": []
  },
  {
   "cell_type": "code",
   "execution_count": 1,
   "metadata": {},
   "outputs": [],
   "source": [
    "import time\n",
    "import numpy as np\n",
    "import tensorflow as tf\n",
    "import matplotlib.pyplot as plt\n",
    "\n",
    "\n",
    "%matplotlib inline\n",
    "plt.rcParams['figure.figsize'] = (10.0, 8.0) # set default size of plots\n",
    "plt.rcParams['image.interpolation'] = 'nearest'\n",
    "plt.rcParams['image.cmap'] = 'gray'\n",
    "\n",
    "# for auto-reloading external modules\n",
    "# see http://stackoverflow.com/questions/1907993/autoreload-of-modules-in-ipython\n",
    "# %load_ext autoreload\n",
    "# %autoreload 2\n",
    "\n",
    "def rel_error(x, y):\n",
    "    \"\"\" returns relative error \"\"\"\n",
    "    return np.max(np.abs(x - y) / (np.maximum(1e-8, np.abs(x) + np.abs(y))))\n"
   ]
  },
  {
   "cell_type": "code",
   "execution_count": 7,
   "metadata": {},
   "outputs": [],
   "source": [
    "# Load the relevant libraries and models\n",
    "\n",
    "from q3_RNNLM import *\n"
   ]
  },
  {
   "cell_type": "code",
   "execution_count": 10,
   "metadata": {},
   "outputs": [],
   "source": [
    "config = Config()\n",
    "gen_config = deepcopy(config)\n",
    "gen_config.batch_size = gen_config.num_steps = 1\n",
    "\n",
    "# We create the training model and generative model\n",
    "\n",
    "with tf.variable_scope('RNNLM') as scope:\n",
    "    model = RNNLM_Model(config)\n",
    "    # This instructs gen_model to reuse the same variables as the model above\n",
    "#     scope.reuse_variables()\n",
    "#     gen_model = RNNLM_Model(gen_config)\n",
    "\n",
    "#     init = tf.initialize_all_variables()\n",
    "#     saver = tf.train.Saver()\n",
    "\n",
    "#     with tf.Session() as session:\n",
    "#         best_val_pp = float('inf')\n",
    "#         best_val_epoch = 0\n",
    "#         session.run(init)\n",
    "#         for epoch in xrange(config.max_epochs):\n",
    "#             print('Epoch {}'.format(epoch))\n",
    "#             start = time.time()\n",
    "#             ###\n",
    "#             train_pp = model.run_epoch(\n",
    "#               session, model.encoded_train,\n",
    "#               train_op=model.train_step)\n",
    "#             valid_pp = model.run_epoch(session, model.encoded_valid)\n",
    "#             print('Training perplexity: {}'.format(train_pp))\n",
    "#             print('Validation perplexity: {}'.format(valid_pp))\n",
    "#             if valid_pp < best_val_pp:\n",
    "#                 best_val_pp = valid_pp\n",
    "#                 best_val_epoch = epoch\n",
    "#                 saver.save(session, './ptb_rnnlm.weights')\n",
    "#             if epoch - best_val_epoch > config.early_stopping:\n",
    "#                 break\n",
    "#             print('Total time: {}'.format(time.time() - start))\n",
    "\n",
    "#         saver.restore(session, 'ptb_rnnlm.weights')\n",
    "#         test_pp = model.run_epoch(session, model.encoded_test)\n",
    "#         print('=-=' * 5)\n",
    "#         print('Test perplexity: {}'.format(test_pp))\n",
    "#         print('=-=' * 5)\n",
    "\n",
    "#         starting_snippets = ['in boston', 'they have', 'please', 'today', 'the president']\n",
    "#         for starting_text in starting_snippets:\n",
    "#             print('\\n')\n",
    "#             print(' '.join(generate_sentence(\n",
    "#               session, gen_model, gen_config, starting_text=starting_text, temp=1.0)))"
   ]
  }
 ],
 "metadata": {
  "kernelspec": {
   "display_name": "Python 3",
   "language": "python",
   "name": "python3"
  },
  "language_info": {
   "codemirror_mode": {
    "name": "ipython",
    "version": 3
   },
   "file_extension": ".py",
   "mimetype": "text/x-python",
   "name": "python",
   "nbconvert_exporter": "python",
   "pygments_lexer": "ipython3",
   "version": "3.6.6"
  }
 },
 "nbformat": 4,
 "nbformat_minor": 2
}
